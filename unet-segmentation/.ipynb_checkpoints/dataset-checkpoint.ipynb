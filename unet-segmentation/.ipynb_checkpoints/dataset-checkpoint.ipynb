{
 "cells": [
  {
   "cell_type": "code",
   "execution_count": 32,
   "metadata": {},
   "outputs": [],
   "source": [
    "import torch\n",
    "import os\n",
    "import numpy as np\n",
    "import matplotlib.pyplot as plt\n",
    "\n",
    "from torchvision import transforms"
   ]
  },
  {
   "cell_type": "code",
   "execution_count": 65,
   "metadata": {},
   "outputs": [],
   "source": [
    "class Dataset(torch.utils.data.Dataset):\n",
    "    def __init__(self, data_dir, transforms=None):\n",
    "        self.img_input_list, self.img_label_list = [], []\n",
    "        self.data_dir = data_dir\n",
    "        self.transforms = transforms\n",
    "\n",
    "        filename_list = os.listdir(data_dir)\n",
    "        for filename in filename_list:\n",
    "            if filename.startswith('input'):\n",
    "                self.img_input_list.append(filename)\n",
    "            else:\n",
    "                self.img_label_list.append(filename)\n",
    "        \n",
    "        self.img_input_list.sort()\n",
    "        self.img_label_list.sort()\n",
    "    \n",
    "    def __len__(self):\n",
    "        return len(self.img_input_list)\n",
    "\n",
    "    def __getitem__(self, index):\n",
    "        img_input = np.load(os.path.join(self.data_dir, self.img_input_list[index]))\n",
    "        img_label = np.load(os.path.join(self.data_dir, self.img_label_list[index]))\n",
    "\n",
    "        img_input = img_input / 255.0\n",
    "        img_label = img_label / 255.0\n",
    "\n",
    "        img_input = img_input[:, :, np.newaxis]\n",
    "        img_label = img_label[:, :, np.newaxis]\n",
    "\n",
    "        data = {\n",
    "            'input': img_input,\n",
    "            'label': img_label\n",
    "        }\n",
    "\n",
    "        if self.transforms:\n",
    "            data = self.transforms(data)\n",
    "\n",
    "        return data"
   ]
  },
  {
   "cell_type": "code",
   "execution_count": 66,
   "metadata": {},
   "outputs": [],
   "source": [
    "class RandomFlip():\n",
    "    def __call__(self, data):\n",
    "        img_input = data['input']\n",
    "        img_label = data['label']\n",
    "\n",
    "        if np.random.rand() > 0.5:\n",
    "            img_input = np.fliplr(img_input)\n",
    "            img_label = np.fliplr(img_label)\n",
    "        if np.random.rand() > 0.5:\n",
    "            img_input = np.flipud(img_input)\n",
    "            img_label = np.flipud(img_label)\n",
    "\n",
    "        return {\n",
    "            'input': img_input,\n",
    "            'label': img_label\n",
    "        }"
   ]
  },
  {
   "cell_type": "code",
   "execution_count": 67,
   "metadata": {},
   "outputs": [],
   "source": [
    "class Normalization():\n",
    "    def __init__(self, mean=0.5, std=0.5):\n",
    "        self.mean = mean\n",
    "        self.std = std\n",
    "    \n",
    "    def __call__(self, data):\n",
    "        img_input = data['input']\n",
    "        img_label = data['label']\n",
    "        \n",
    "        img_input = (img_input - self.mean) / self.std\n",
    "        \n",
    "        return {\n",
    "            'input': img_input,\n",
    "            'label': img_label\n",
    "        }"
   ]
  },
  {
   "cell_type": "code",
   "execution_count": 68,
   "metadata": {},
   "outputs": [],
   "source": [
    "class ToTensor(object):\n",
    "    def __call__(self, data):\n",
    "        img_input = data['input']\n",
    "        img_label = data['label']\n",
    "\n",
    "        img_input = img_input.transpose((2, 0, 1)).astype(np.float32)\n",
    "        img_label = img_label.transpose((2, 0, 1)).astype(np.float32)\n",
    "\n",
    "        return {\n",
    "            'input': torch.from_numpy(img_input),\n",
    "            'label': torch.from_numpy(img_label)\n",
    "        }"
   ]
  }
 ],
 "metadata": {
  "kernelspec": {
   "display_name": "Python 3 (ipykernel)",
   "language": "python",
   "name": "python3"
  },
  "language_info": {
   "codemirror_mode": {
    "name": "ipython",
    "version": 3
   },
   "file_extension": ".py",
   "mimetype": "text/x-python",
   "name": "python",
   "nbconvert_exporter": "python",
   "pygments_lexer": "ipython3",
   "version": "3.7.13"
  },
  "vscode": {
   "interpreter": {
    "hash": "df939165bd4b2eaba34f422a6616a36f9eab8da04d8276bb2e001b0f4bb09767"
   }
  }
 },
 "nbformat": 4,
 "nbformat_minor": 2
}
